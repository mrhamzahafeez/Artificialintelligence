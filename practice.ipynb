{
 "cells": [
  {
   "cell_type": "code",
   "execution_count": 1,
   "metadata": {},
   "outputs": [
    {
     "name": "stdout",
     "output_type": "stream",
     "text": [
      "Collecting pandas\n",
      "  Downloading pandas-2.2.2-cp312-cp312-win_amd64.whl.metadata (19 kB)\n",
      "Collecting numpy>=1.26.0 (from pandas)\n",
      "  Downloading numpy-2.1.1-cp312-cp312-win_amd64.whl.metadata (59 kB)\n",
      "Requirement already satisfied: python-dateutil>=2.8.2 in c:\\users\\dit\\appdata\\roaming\\python\\python312\\site-packages (from pandas) (2.9.0.post0)\n",
      "Collecting pytz>=2020.1 (from pandas)\n",
      "  Downloading pytz-2024.2-py2.py3-none-any.whl.metadata (22 kB)\n",
      "Collecting tzdata>=2022.7 (from pandas)\n",
      "  Downloading tzdata-2024.1-py2.py3-none-any.whl.metadata (1.4 kB)\n",
      "Requirement already satisfied: six>=1.5 in c:\\users\\dit\\appdata\\roaming\\python\\python312\\site-packages (from python-dateutil>=2.8.2->pandas) (1.16.0)\n",
      "Downloading pandas-2.2.2-cp312-cp312-win_amd64.whl (11.5 MB)\n",
      "   ---------------------------------------- 0.0/11.5 MB ? eta -:--:--\n",
      "    --------------------------------------- 0.3/11.5 MB ? eta -:--:--\n",
      "   - -------------------------------------- 0.5/11.5 MB 2.1 MB/s eta 0:00:06\n",
      "   -- ------------------------------------- 0.8/11.5 MB 1.4 MB/s eta 0:00:08\n",
      "   --- ------------------------------------ 1.0/11.5 MB 1.3 MB/s eta 0:00:09\n",
      "   ---- ----------------------------------- 1.3/11.5 MB 1.2 MB/s eta 0:00:09\n",
      "   ----- ---------------------------------- 1.6/11.5 MB 1.2 MB/s eta 0:00:09\n",
      "   ------ --------------------------------- 1.8/11.5 MB 1.2 MB/s eta 0:00:08\n",
      "   ------- -------------------------------- 2.1/11.5 MB 1.2 MB/s eta 0:00:08\n",
      "   -------- ------------------------------- 2.4/11.5 MB 1.2 MB/s eta 0:00:08\n",
      "   --------- ------------------------------ 2.6/11.5 MB 1.2 MB/s eta 0:00:08\n",
      "   ---------- ----------------------------- 2.9/11.5 MB 1.3 MB/s eta 0:00:07\n",
      "   ---------- ----------------------------- 3.1/11.5 MB 1.3 MB/s eta 0:00:07\n",
      "   ----------- ---------------------------- 3.4/11.5 MB 1.3 MB/s eta 0:00:07\n",
      "   ------------- -------------------------- 3.9/11.5 MB 1.3 MB/s eta 0:00:06\n",
      "   -------------- ------------------------- 4.2/11.5 MB 1.3 MB/s eta 0:00:06\n",
      "   --------------- ------------------------ 4.5/11.5 MB 1.3 MB/s eta 0:00:06\n",
      "   ----------------- ---------------------- 5.0/11.5 MB 1.4 MB/s eta 0:00:05\n",
      "   ------------------ --------------------- 5.2/11.5 MB 1.4 MB/s eta 0:00:05\n",
      "   -------------------- ------------------- 5.8/11.5 MB 1.4 MB/s eta 0:00:05\n",
      "   -------------------- ------------------- 6.0/11.5 MB 1.4 MB/s eta 0:00:04\n",
      "   --------------------- ------------------ 6.3/11.5 MB 1.4 MB/s eta 0:00:04\n",
      "   ---------------------- ----------------- 6.6/11.5 MB 1.4 MB/s eta 0:00:04\n",
      "   ----------------------- ---------------- 6.8/11.5 MB 1.4 MB/s eta 0:00:04\n",
      "   ------------------------- -------------- 7.3/11.5 MB 1.4 MB/s eta 0:00:03\n",
      "   -------------------------- ------------- 7.6/11.5 MB 1.4 MB/s eta 0:00:03\n",
      "   --------------------------- ------------ 7.9/11.5 MB 1.5 MB/s eta 0:00:03\n",
      "   ----------------------------- ---------- 8.4/11.5 MB 1.5 MB/s eta 0:00:03\n",
      "   ------------------------------ --------- 8.7/11.5 MB 1.5 MB/s eta 0:00:02\n",
      "   ------------------------------- -------- 9.2/11.5 MB 1.5 MB/s eta 0:00:02\n",
      "   -------------------------------- ------- 9.4/11.5 MB 1.5 MB/s eta 0:00:02\n",
      "   ---------------------------------- ----- 10.0/11.5 MB 1.5 MB/s eta 0:00:02\n",
      "   ----------------------------------- ---- 10.2/11.5 MB 1.5 MB/s eta 0:00:01\n",
      "   ------------------------------------ --- 10.5/11.5 MB 1.5 MB/s eta 0:00:01\n",
      "   -------------------------------------- - 11.0/11.5 MB 1.5 MB/s eta 0:00:01\n",
      "   ---------------------------------------  11.3/11.5 MB 1.5 MB/s eta 0:00:01\n",
      "   ---------------------------------------- 11.5/11.5 MB 1.5 MB/s eta 0:00:00\n",
      "Downloading numpy-2.1.1-cp312-cp312-win_amd64.whl (12.6 MB)\n",
      "   ---------------------------------------- 0.0/12.6 MB ? eta -:--:--\n",
      "    --------------------------------------- 0.3/12.6 MB ? eta -:--:--\n",
      "   - -------------------------------------- 0.5/12.6 MB 1.7 MB/s eta 0:00:08\n",
      "   -- ------------------------------------- 0.8/12.6 MB 1.7 MB/s eta 0:00:08\n",
      "   ---- ----------------------------------- 1.3/12.6 MB 1.6 MB/s eta 0:00:07\n",
      "   ----- ---------------------------------- 1.6/12.6 MB 1.7 MB/s eta 0:00:07\n",
      "   ----- ---------------------------------- 1.8/12.6 MB 1.7 MB/s eta 0:00:07\n",
      "   ------ --------------------------------- 2.1/12.6 MB 1.6 MB/s eta 0:00:07\n",
      "   ------- -------------------------------- 2.4/12.6 MB 1.4 MB/s eta 0:00:08\n",
      "   ------- -------------------------------- 2.4/12.6 MB 1.4 MB/s eta 0:00:08\n",
      "   -------- ------------------------------- 2.6/12.6 MB 1.2 MB/s eta 0:00:09\n",
      "   -------- ------------------------------- 2.6/12.6 MB 1.2 MB/s eta 0:00:09\n",
      "   -------- ------------------------------- 2.6/12.6 MB 1.2 MB/s eta 0:00:09\n",
      "   --------- ------------------------------ 2.9/12.6 MB 1.0 MB/s eta 0:00:10\n",
      "   --------- ------------------------------ 2.9/12.6 MB 1.0 MB/s eta 0:00:10\n",
      "   --------- ------------------------------ 2.9/12.6 MB 1.0 MB/s eta 0:00:10\n",
      "   --------- ------------------------------ 2.9/12.6 MB 1.0 MB/s eta 0:00:10\n",
      "   ---------- ----------------------------- 3.1/12.6 MB 870.4 kB/s eta 0:00:11\n",
      "   ---------- ----------------------------- 3.1/12.6 MB 870.4 kB/s eta 0:00:11\n",
      "   ---------- ----------------------------- 3.1/12.6 MB 870.4 kB/s eta 0:00:11\n",
      "   ---------- ----------------------------- 3.4/12.6 MB 795.8 kB/s eta 0:00:12\n",
      "   ---------- ----------------------------- 3.4/12.6 MB 795.8 kB/s eta 0:00:12\n",
      "   ----------- ---------------------------- 3.7/12.6 MB 770.7 kB/s eta 0:00:12\n",
      "   ----------- ---------------------------- 3.7/12.6 MB 770.7 kB/s eta 0:00:12\n",
      "   ------------ --------------------------- 3.9/12.6 MB 762.5 kB/s eta 0:00:12\n",
      "   ------------ --------------------------- 3.9/12.6 MB 762.5 kB/s eta 0:00:12\n",
      "   ------------- -------------------------- 4.2/12.6 MB 757.9 kB/s eta 0:00:12\n",
      "   -------------- ------------------------- 4.5/12.6 MB 762.6 kB/s eta 0:00:11\n",
      "   --------------- ------------------------ 4.7/12.6 MB 768.8 kB/s eta 0:00:11\n",
      "   --------------- ------------------------ 4.7/12.6 MB 768.8 kB/s eta 0:00:11\n",
      "   --------------- ------------------------ 5.0/12.6 MB 776.3 kB/s eta 0:00:10\n",
      "   ---------------- ----------------------- 5.2/12.6 MB 789.0 kB/s eta 0:00:10\n",
      "   ----------------- ---------------------- 5.5/12.6 MB 798.9 kB/s eta 0:00:09\n",
      "   ------------------ --------------------- 5.8/12.6 MB 809.9 kB/s eta 0:00:09\n",
      "   ------------------- -------------------- 6.0/12.6 MB 822.0 kB/s eta 0:00:08\n",
      "   -------------------- ------------------- 6.3/12.6 MB 833.4 kB/s eta 0:00:08\n",
      "   -------------------- ------------------- 6.6/12.6 MB 845.9 kB/s eta 0:00:08\n",
      "   --------------------- ------------------ 6.8/12.6 MB 857.7 kB/s eta 0:00:07\n",
      "   ---------------------- ----------------- 7.1/12.6 MB 868.9 kB/s eta 0:00:07\n",
      "   ----------------------- ---------------- 7.3/12.6 MB 881.3 kB/s eta 0:00:06\n",
      "   ------------------------ --------------- 7.6/12.6 MB 894.8 kB/s eta 0:00:06\n",
      "   ------------------------- -------------- 8.1/12.6 MB 920.1 kB/s eta 0:00:05\n",
      "   -------------------------- ------------- 8.4/12.6 MB 932.0 kB/s eta 0:00:05\n",
      "   --------------------------- ------------ 8.7/12.6 MB 945.2 kB/s eta 0:00:05\n",
      "   ---------------------------- ----------- 8.9/12.6 MB 956.2 kB/s eta 0:00:04\n",
      "   ------------------------------ --------- 9.4/12.6 MB 981.9 kB/s eta 0:00:04\n",
      "   ------------------------------ --------- 9.7/12.6 MB 993.4 kB/s eta 0:00:03\n",
      "   -------------------------------- ------- 10.2/12.6 MB 1.0 MB/s eta 0:00:03\n",
      "   --------------------------------- ------ 10.5/12.6 MB 1.0 MB/s eta 0:00:03\n",
      "   ---------------------------------- ----- 10.7/12.6 MB 1.0 MB/s eta 0:00:02\n",
      "   ----------------------------------- ---- 11.0/12.6 MB 1.0 MB/s eta 0:00:02\n",
      "   ----------------------------------- ---- 11.3/12.6 MB 1.0 MB/s eta 0:00:02\n",
      "   ------------------------------------- -- 11.8/12.6 MB 1.1 MB/s eta 0:00:01\n",
      "   -------------------------------------- - 12.1/12.6 MB 1.1 MB/s eta 0:00:01\n",
      "   ---------------------------------------  12.3/12.6 MB 1.1 MB/s eta 0:00:01\n",
      "   ---------------------------------------- 12.6/12.6 MB 1.1 MB/s eta 0:00:00\n",
      "Downloading pytz-2024.2-py2.py3-none-any.whl (508 kB)\n",
      "Downloading tzdata-2024.1-py2.py3-none-any.whl (345 kB)\n",
      "Installing collected packages: pytz, tzdata, numpy, pandas\n",
      "Successfully installed numpy-2.1.1 pandas-2.2.2 pytz-2024.2 tzdata-2024.1\n",
      "Note: you may need to restart the kernel to use updated packages.\n"
     ]
    },
    {
     "name": "stderr",
     "output_type": "stream",
     "text": [
      "  WARNING: The scripts f2py.exe and numpy-config.exe are installed in 'c:\\Users\\dit\\AppData\\Local\\Programs\\Python\\Python312\\Scripts' which is not on PATH.\n",
      "  Consider adding this directory to PATH or, if you prefer to suppress this warning, use --no-warn-script-location.\n"
     ]
    },
    {
     "name": "stdout",
     "output_type": "stream",
     "text": [
      "Requirement already satisfied: numpy in c:\\users\\dit\\appdata\\local\\programs\\python\\python312\\lib\\site-packages (2.1.1)\n",
      "Note: you may need to restart the kernel to use updated packages.\n"
     ]
    }
   ],
   "source": [
    "%pip install pandas\n",
    "%pip install numpy"
   ]
  },
  {
   "cell_type": "code",
   "execution_count": 11,
   "metadata": {},
   "outputs": [],
   "source": [
    "import numpy as np\n",
    "import pandas as pd"
   ]
  },
  {
   "cell_type": "code",
   "execution_count": 12,
   "metadata": {},
   "outputs": [],
   "source": [
    "s = pd.Series ([1, 3, 5, np.nan, 6, 9])"
   ]
  },
  {
   "cell_type": "code",
   "execution_count": 13,
   "metadata": {},
   "outputs": [
    {
     "data": {
      "text/plain": [
       "0    1.0\n",
       "1    3.0\n",
       "2    5.0\n",
       "3    NaN\n",
       "4    6.0\n",
       "5    9.0\n",
       "dtype: float64"
      ]
     },
     "execution_count": 13,
     "metadata": {},
     "output_type": "execute_result"
    }
   ],
   "source": [
    "s"
   ]
  },
  {
   "cell_type": "code",
   "execution_count": 15,
   "metadata": {},
   "outputs": [
    {
     "data": {
      "text/plain": [
       "DatetimeIndex(['2013-01-01', '2013-01-02', '2013-01-03', '2013-01-04',\n",
       "               '2013-01-05', '2013-01-06'],\n",
       "              dtype='datetime64[ns]', freq='D')"
      ]
     },
     "execution_count": 15,
     "metadata": {},
     "output_type": "execute_result"
    }
   ],
   "source": [
    "dates= pd.date_range(\"2013-01-01\", periods=6)\n",
    "dates"
   ]
  },
  {
   "cell_type": "code",
   "execution_count": 26,
   "metadata": {},
   "outputs": [
    {
     "data": {
      "text/html": [
       "<div>\n",
       "<style scoped>\n",
       "    .dataframe tbody tr th:only-of-type {\n",
       "        vertical-align: middle;\n",
       "    }\n",
       "\n",
       "    .dataframe tbody tr th {\n",
       "        vertical-align: top;\n",
       "    }\n",
       "\n",
       "    .dataframe thead th {\n",
       "        text-align: right;\n",
       "    }\n",
       "</style>\n",
       "<table border=\"1\" class=\"dataframe\">\n",
       "  <thead>\n",
       "    <tr style=\"text-align: right;\">\n",
       "      <th></th>\n",
       "      <th>A</th>\n",
       "      <th>B</th>\n",
       "      <th>C</th>\n",
       "      <th>D</th>\n",
       "    </tr>\n",
       "  </thead>\n",
       "  <tbody>\n",
       "    <tr>\n",
       "      <th>2013-01-01</th>\n",
       "      <td>-0.603744</td>\n",
       "      <td>0.361301</td>\n",
       "      <td>-0.915274</td>\n",
       "      <td>-0.458407</td>\n",
       "    </tr>\n",
       "    <tr>\n",
       "      <th>2013-01-02</th>\n",
       "      <td>-0.592167</td>\n",
       "      <td>0.523079</td>\n",
       "      <td>2.057677</td>\n",
       "      <td>-0.830832</td>\n",
       "    </tr>\n",
       "    <tr>\n",
       "      <th>2013-01-03</th>\n",
       "      <td>1.548245</td>\n",
       "      <td>0.205499</td>\n",
       "      <td>-0.880229</td>\n",
       "      <td>-0.316001</td>\n",
       "    </tr>\n",
       "    <tr>\n",
       "      <th>2013-01-04</th>\n",
       "      <td>-0.590586</td>\n",
       "      <td>0.114728</td>\n",
       "      <td>0.211443</td>\n",
       "      <td>-1.059525</td>\n",
       "    </tr>\n",
       "    <tr>\n",
       "      <th>2013-01-05</th>\n",
       "      <td>-0.101681</td>\n",
       "      <td>-0.329552</td>\n",
       "      <td>0.243635</td>\n",
       "      <td>-0.099915</td>\n",
       "    </tr>\n",
       "    <tr>\n",
       "      <th>2013-01-06</th>\n",
       "      <td>-0.543650</td>\n",
       "      <td>-0.393625</td>\n",
       "      <td>1.271829</td>\n",
       "      <td>-1.056865</td>\n",
       "    </tr>\n",
       "  </tbody>\n",
       "</table>\n",
       "</div>"
      ],
      "text/plain": [
       "                   A         B         C         D\n",
       "2013-01-01 -0.603744  0.361301 -0.915274 -0.458407\n",
       "2013-01-02 -0.592167  0.523079  2.057677 -0.830832\n",
       "2013-01-03  1.548245  0.205499 -0.880229 -0.316001\n",
       "2013-01-04 -0.590586  0.114728  0.211443 -1.059525\n",
       "2013-01-05 -0.101681 -0.329552  0.243635 -0.099915\n",
       "2013-01-06 -0.543650 -0.393625  1.271829 -1.056865"
      ]
     },
     "execution_count": 26,
     "metadata": {},
     "output_type": "execute_result"
    }
   ],
   "source": [
    "df = pd.DataFrame(np.random.randn (6,4), index=dates, columns=list('ABCD'))\n",
    "df\n"
   ]
  },
  {
   "cell_type": "code",
   "execution_count": 42,
   "metadata": {},
   "outputs": [
    {
     "data": {
      "text/html": [
       "<div>\n",
       "<style scoped>\n",
       "    .dataframe tbody tr th:only-of-type {\n",
       "        vertical-align: middle;\n",
       "    }\n",
       "\n",
       "    .dataframe tbody tr th {\n",
       "        vertical-align: top;\n",
       "    }\n",
       "\n",
       "    .dataframe thead th {\n",
       "        text-align: right;\n",
       "    }\n",
       "</style>\n",
       "<table border=\"1\" class=\"dataframe\">\n",
       "  <thead>\n",
       "    <tr style=\"text-align: right;\">\n",
       "      <th></th>\n",
       "      <th>A</th>\n",
       "      <th>B</th>\n",
       "      <th>C</th>\n",
       "      <th>D</th>\n",
       "    </tr>\n",
       "  </thead>\n",
       "  <tbody>\n",
       "    <tr>\n",
       "      <th>2013-01-01</th>\n",
       "      <td>-1.616177</td>\n",
       "      <td>1.130402</td>\n",
       "      <td>-1.902371</td>\n",
       "      <td>-0.853090</td>\n",
       "    </tr>\n",
       "    <tr>\n",
       "      <th>2013-01-02</th>\n",
       "      <td>-1.674014</td>\n",
       "      <td>0.913678</td>\n",
       "      <td>0.287839</td>\n",
       "      <td>0.401093</td>\n",
       "    </tr>\n",
       "    <tr>\n",
       "      <th>2013-01-03</th>\n",
       "      <td>0.062348</td>\n",
       "      <td>1.077333</td>\n",
       "      <td>0.484805</td>\n",
       "      <td>-1.766945</td>\n",
       "    </tr>\n",
       "    <tr>\n",
       "      <th>2013-01-04</th>\n",
       "      <td>-0.950319</td>\n",
       "      <td>-1.881390</td>\n",
       "      <td>0.271041</td>\n",
       "      <td>-1.186033</td>\n",
       "    </tr>\n",
       "    <tr>\n",
       "      <th>2013-01-05</th>\n",
       "      <td>0.209210</td>\n",
       "      <td>-0.485701</td>\n",
       "      <td>-0.217883</td>\n",
       "      <td>-0.822942</td>\n",
       "    </tr>\n",
       "    <tr>\n",
       "      <th>2013-01-06</th>\n",
       "      <td>-0.722540</td>\n",
       "      <td>0.284470</td>\n",
       "      <td>-1.065357</td>\n",
       "      <td>-1.755751</td>\n",
       "    </tr>\n",
       "  </tbody>\n",
       "</table>\n",
       "</div>"
      ],
      "text/plain": [
       "                   A         B         C         D\n",
       "2013-01-01 -1.616177  1.130402 -1.902371 -0.853090\n",
       "2013-01-02 -1.674014  0.913678  0.287839  0.401093\n",
       "2013-01-03  0.062348  1.077333  0.484805 -1.766945\n",
       "2013-01-04 -0.950319 -1.881390  0.271041 -1.186033\n",
       "2013-01-05  0.209210 -0.485701 -0.217883 -0.822942\n",
       "2013-01-06 -0.722540  0.284470 -1.065357 -1.755751"
      ]
     },
     "execution_count": 42,
     "metadata": {},
     "output_type": "execute_result"
    }
   ],
   "source": [
    "df = pd.DataFrame(np.random.randn (6,4), index=dates, columns=list('ABCD'))\n",
    "df"
   ]
  },
  {
   "cell_type": "code",
   "execution_count": 29,
   "metadata": {},
   "outputs": [
    {
     "data": {
      "text/html": [
       "<div>\n",
       "<style scoped>\n",
       "    .dataframe tbody tr th:only-of-type {\n",
       "        vertical-align: middle;\n",
       "    }\n",
       "\n",
       "    .dataframe tbody tr th {\n",
       "        vertical-align: top;\n",
       "    }\n",
       "\n",
       "    .dataframe thead th {\n",
       "        text-align: right;\n",
       "    }\n",
       "</style>\n",
       "<table border=\"1\" class=\"dataframe\">\n",
       "  <thead>\n",
       "    <tr style=\"text-align: right;\">\n",
       "      <th></th>\n",
       "      <th>A</th>\n",
       "      <th>B</th>\n",
       "      <th>C</th>\n",
       "      <th>D</th>\n",
       "      <th>E</th>\n",
       "      <th>F</th>\n",
       "    </tr>\n",
       "  </thead>\n",
       "  <tbody>\n",
       "    <tr>\n",
       "      <th>0</th>\n",
       "      <td>1.0</td>\n",
       "      <td>2013-01-02</td>\n",
       "      <td>1.0</td>\n",
       "      <td>3</td>\n",
       "      <td>test</td>\n",
       "      <td>foo</td>\n",
       "    </tr>\n",
       "    <tr>\n",
       "      <th>1</th>\n",
       "      <td>1.0</td>\n",
       "      <td>2013-01-02</td>\n",
       "      <td>1.0</td>\n",
       "      <td>3</td>\n",
       "      <td>train</td>\n",
       "      <td>foo</td>\n",
       "    </tr>\n",
       "    <tr>\n",
       "      <th>2</th>\n",
       "      <td>1.0</td>\n",
       "      <td>2013-01-02</td>\n",
       "      <td>1.0</td>\n",
       "      <td>3</td>\n",
       "      <td>test</td>\n",
       "      <td>foo</td>\n",
       "    </tr>\n",
       "    <tr>\n",
       "      <th>3</th>\n",
       "      <td>1.0</td>\n",
       "      <td>2013-01-02</td>\n",
       "      <td>1.0</td>\n",
       "      <td>3</td>\n",
       "      <td>train</td>\n",
       "      <td>foo</td>\n",
       "    </tr>\n",
       "  </tbody>\n",
       "</table>\n",
       "</div>"
      ],
      "text/plain": [
       "     A          B    C  D      E    F\n",
       "0  1.0 2013-01-02  1.0  3   test  foo\n",
       "1  1.0 2013-01-02  1.0  3  train  foo\n",
       "2  1.0 2013-01-02  1.0  3   test  foo\n",
       "3  1.0 2013-01-02  1.0  3  train  foo"
      ]
     },
     "execution_count": 29,
     "metadata": {},
     "output_type": "execute_result"
    }
   ],
   "source": [
    "df2 = pd.DataFrame(\n",
    "    {\n",
    "         \"A\": 1.0,\n",
    "        \"B\": pd.Timestamp(\"20130102\"),\n",
    "        \"C\": pd.Series(1, index=list(range(4)), dtype=\"float32\"),\n",
    "        \"D\": np.array([3] * 4, dtype=\"int32\"),\n",
    "        \"E\": pd.Categorical([\"test\", \"train\", \"test\", \"train\"]),\n",
    "        \"F\": \"foo\",\n",
    "             }\n",
    ")\n",
    "df2"
   ]
  },
  {
   "cell_type": "code",
   "execution_count": 31,
   "metadata": {},
   "outputs": [
    {
     "data": {
      "text/plain": [
       "A    float64\n",
       "B    float64\n",
       "C    float64\n",
       "D    float64\n",
       "dtype: object"
      ]
     },
     "execution_count": 31,
     "metadata": {},
     "output_type": "execute_result"
    }
   ],
   "source": [
    "df.dtypes"
   ]
  },
  {
   "cell_type": "code",
   "execution_count": 34,
   "metadata": {},
   "outputs": [
    {
     "data": {
      "text/html": [
       "<div>\n",
       "<style scoped>\n",
       "    .dataframe tbody tr th:only-of-type {\n",
       "        vertical-align: middle;\n",
       "    }\n",
       "\n",
       "    .dataframe tbody tr th {\n",
       "        vertical-align: top;\n",
       "    }\n",
       "\n",
       "    .dataframe thead th {\n",
       "        text-align: right;\n",
       "    }\n",
       "</style>\n",
       "<table border=\"1\" class=\"dataframe\">\n",
       "  <thead>\n",
       "    <tr style=\"text-align: right;\">\n",
       "      <th></th>\n",
       "      <th>A</th>\n",
       "      <th>B</th>\n",
       "      <th>C</th>\n",
       "      <th>D</th>\n",
       "    </tr>\n",
       "  </thead>\n",
       "  <tbody>\n",
       "    <tr>\n",
       "      <th>1</th>\n",
       "      <td>0.594381</td>\n",
       "      <td>-1.694274</td>\n",
       "      <td>-0.774390</td>\n",
       "      <td>-0.989852</td>\n",
       "    </tr>\n",
       "    <tr>\n",
       "      <th>2</th>\n",
       "      <td>-0.628392</td>\n",
       "      <td>0.488256</td>\n",
       "      <td>0.504002</td>\n",
       "      <td>-1.489599</td>\n",
       "    </tr>\n",
       "    <tr>\n",
       "      <th>3</th>\n",
       "      <td>-0.458046</td>\n",
       "      <td>1.213582</td>\n",
       "      <td>2.607014</td>\n",
       "      <td>-0.116470</td>\n",
       "    </tr>\n",
       "    <tr>\n",
       "      <th>4</th>\n",
       "      <td>0.104094</td>\n",
       "      <td>2.134988</td>\n",
       "      <td>0.156138</td>\n",
       "      <td>-0.458989</td>\n",
       "    </tr>\n",
       "    <tr>\n",
       "      <th>5</th>\n",
       "      <td>0.419401</td>\n",
       "      <td>-0.932691</td>\n",
       "      <td>0.646239</td>\n",
       "      <td>-0.590773</td>\n",
       "    </tr>\n",
       "  </tbody>\n",
       "</table>\n",
       "</div>"
      ],
      "text/plain": [
       "          A         B         C         D\n",
       "1  0.594381 -1.694274 -0.774390 -0.989852\n",
       "2 -0.628392  0.488256  0.504002 -1.489599\n",
       "3 -0.458046  1.213582  2.607014 -0.116470\n",
       "4  0.104094  2.134988  0.156138 -0.458989\n",
       "5  0.419401 -0.932691  0.646239 -0.590773"
      ]
     },
     "execution_count": 34,
     "metadata": {},
     "output_type": "execute_result"
    }
   ],
   "source": [
    "df.head()\n",
    "df.tail()"
   ]
  },
  {
   "cell_type": "code",
   "execution_count": 35,
   "metadata": {},
   "outputs": [
    {
     "data": {
      "text/html": [
       "<div>\n",
       "<style scoped>\n",
       "    .dataframe tbody tr th:only-of-type {\n",
       "        vertical-align: middle;\n",
       "    }\n",
       "\n",
       "    .dataframe tbody tr th {\n",
       "        vertical-align: top;\n",
       "    }\n",
       "\n",
       "    .dataframe thead th {\n",
       "        text-align: right;\n",
       "    }\n",
       "</style>\n",
       "<table border=\"1\" class=\"dataframe\">\n",
       "  <thead>\n",
       "    <tr style=\"text-align: right;\">\n",
       "      <th></th>\n",
       "      <th>A</th>\n",
       "      <th>B</th>\n",
       "      <th>C</th>\n",
       "      <th>D</th>\n",
       "    </tr>\n",
       "  </thead>\n",
       "  <tbody>\n",
       "    <tr>\n",
       "      <th>0</th>\n",
       "      <td>-1.154432</td>\n",
       "      <td>1.029992</td>\n",
       "      <td>0.868569</td>\n",
       "      <td>-0.515312</td>\n",
       "    </tr>\n",
       "    <tr>\n",
       "      <th>1</th>\n",
       "      <td>0.594381</td>\n",
       "      <td>-1.694274</td>\n",
       "      <td>-0.774390</td>\n",
       "      <td>-0.989852</td>\n",
       "    </tr>\n",
       "    <tr>\n",
       "      <th>2</th>\n",
       "      <td>-0.628392</td>\n",
       "      <td>0.488256</td>\n",
       "      <td>0.504002</td>\n",
       "      <td>-1.489599</td>\n",
       "    </tr>\n",
       "  </tbody>\n",
       "</table>\n",
       "</div>"
      ],
      "text/plain": [
       "          A         B         C         D\n",
       "0 -1.154432  1.029992  0.868569 -0.515312\n",
       "1  0.594381 -1.694274 -0.774390 -0.989852\n",
       "2 -0.628392  0.488256  0.504002 -1.489599"
      ]
     },
     "execution_count": 35,
     "metadata": {},
     "output_type": "execute_result"
    }
   ],
   "source": [
    "df.head(3)"
   ]
  },
  {
   "cell_type": "code",
   "execution_count": 36,
   "metadata": {},
   "outputs": [
    {
     "data": {
      "text/html": [
       "<div>\n",
       "<style scoped>\n",
       "    .dataframe tbody tr th:only-of-type {\n",
       "        vertical-align: middle;\n",
       "    }\n",
       "\n",
       "    .dataframe tbody tr th {\n",
       "        vertical-align: top;\n",
       "    }\n",
       "\n",
       "    .dataframe thead th {\n",
       "        text-align: right;\n",
       "    }\n",
       "</style>\n",
       "<table border=\"1\" class=\"dataframe\">\n",
       "  <thead>\n",
       "    <tr style=\"text-align: right;\">\n",
       "      <th></th>\n",
       "      <th>A</th>\n",
       "      <th>B</th>\n",
       "      <th>C</th>\n",
       "      <th>D</th>\n",
       "    </tr>\n",
       "  </thead>\n",
       "  <tbody>\n",
       "    <tr>\n",
       "      <th>4</th>\n",
       "      <td>0.104094</td>\n",
       "      <td>2.134988</td>\n",
       "      <td>0.156138</td>\n",
       "      <td>-0.458989</td>\n",
       "    </tr>\n",
       "    <tr>\n",
       "      <th>5</th>\n",
       "      <td>0.419401</td>\n",
       "      <td>-0.932691</td>\n",
       "      <td>0.646239</td>\n",
       "      <td>-0.590773</td>\n",
       "    </tr>\n",
       "  </tbody>\n",
       "</table>\n",
       "</div>"
      ],
      "text/plain": [
       "          A         B         C         D\n",
       "4  0.104094  2.134988  0.156138 -0.458989\n",
       "5  0.419401 -0.932691  0.646239 -0.590773"
      ]
     },
     "execution_count": 36,
     "metadata": {},
     "output_type": "execute_result"
    }
   ],
   "source": [
    "df.tail(2)"
   ]
  },
  {
   "cell_type": "code",
   "execution_count": 43,
   "metadata": {},
   "outputs": [
    {
     "data": {
      "text/plain": [
       "DatetimeIndex(['2013-01-01', '2013-01-02', '2013-01-03', '2013-01-04',\n",
       "               '2013-01-05', '2013-01-06'],\n",
       "              dtype='datetime64[ns]', freq='D')"
      ]
     },
     "execution_count": 43,
     "metadata": {},
     "output_type": "execute_result"
    }
   ],
   "source": [
    "df.index"
   ]
  },
  {
   "cell_type": "code",
   "execution_count": 44,
   "metadata": {},
   "outputs": [
    {
     "data": {
      "text/html": [
       "<div>\n",
       "<style scoped>\n",
       "    .dataframe tbody tr th:only-of-type {\n",
       "        vertical-align: middle;\n",
       "    }\n",
       "\n",
       "    .dataframe tbody tr th {\n",
       "        vertical-align: top;\n",
       "    }\n",
       "\n",
       "    .dataframe thead th {\n",
       "        text-align: right;\n",
       "    }\n",
       "</style>\n",
       "<table border=\"1\" class=\"dataframe\">\n",
       "  <thead>\n",
       "    <tr style=\"text-align: right;\">\n",
       "      <th></th>\n",
       "      <th>A</th>\n",
       "      <th>B</th>\n",
       "      <th>C</th>\n",
       "      <th>D</th>\n",
       "    </tr>\n",
       "  </thead>\n",
       "  <tbody>\n",
       "    <tr>\n",
       "      <th>count</th>\n",
       "      <td>6.000000</td>\n",
       "      <td>6.000000</td>\n",
       "      <td>6.000000</td>\n",
       "      <td>6.000000</td>\n",
       "    </tr>\n",
       "    <tr>\n",
       "      <th>mean</th>\n",
       "      <td>-0.781915</td>\n",
       "      <td>0.173132</td>\n",
       "      <td>-0.356987</td>\n",
       "      <td>-0.997278</td>\n",
       "    </tr>\n",
       "    <tr>\n",
       "      <th>std</th>\n",
       "      <td>0.802350</td>\n",
       "      <td>1.178972</td>\n",
       "      <td>0.941083</td>\n",
       "      <td>0.801239</td>\n",
       "    </tr>\n",
       "    <tr>\n",
       "      <th>min</th>\n",
       "      <td>-1.674014</td>\n",
       "      <td>-1.881390</td>\n",
       "      <td>-1.902371</td>\n",
       "      <td>-1.766945</td>\n",
       "    </tr>\n",
       "    <tr>\n",
       "      <th>25%</th>\n",
       "      <td>-1.449712</td>\n",
       "      <td>-0.293158</td>\n",
       "      <td>-0.853488</td>\n",
       "      <td>-1.613321</td>\n",
       "    </tr>\n",
       "    <tr>\n",
       "      <th>50%</th>\n",
       "      <td>-0.836430</td>\n",
       "      <td>0.599074</td>\n",
       "      <td>0.026579</td>\n",
       "      <td>-1.019561</td>\n",
       "    </tr>\n",
       "    <tr>\n",
       "      <th>75%</th>\n",
       "      <td>-0.133874</td>\n",
       "      <td>1.036419</td>\n",
       "      <td>0.283640</td>\n",
       "      <td>-0.830479</td>\n",
       "    </tr>\n",
       "    <tr>\n",
       "      <th>max</th>\n",
       "      <td>0.209210</td>\n",
       "      <td>1.130402</td>\n",
       "      <td>0.484805</td>\n",
       "      <td>0.401093</td>\n",
       "    </tr>\n",
       "  </tbody>\n",
       "</table>\n",
       "</div>"
      ],
      "text/plain": [
       "              A         B         C         D\n",
       "count  6.000000  6.000000  6.000000  6.000000\n",
       "mean  -0.781915  0.173132 -0.356987 -0.997278\n",
       "std    0.802350  1.178972  0.941083  0.801239\n",
       "min   -1.674014 -1.881390 -1.902371 -1.766945\n",
       "25%   -1.449712 -0.293158 -0.853488 -1.613321\n",
       "50%   -0.836430  0.599074  0.026579 -1.019561\n",
       "75%   -0.133874  1.036419  0.283640 -0.830479\n",
       "max    0.209210  1.130402  0.484805  0.401093"
      ]
     },
     "execution_count": 44,
     "metadata": {},
     "output_type": "execute_result"
    }
   ],
   "source": [
    "df.describe()"
   ]
  },
  {
   "cell_type": "code",
   "execution_count": 45,
   "metadata": {},
   "outputs": [
    {
     "data": {
      "text/html": [
       "<div>\n",
       "<style scoped>\n",
       "    .dataframe tbody tr th:only-of-type {\n",
       "        vertical-align: middle;\n",
       "    }\n",
       "\n",
       "    .dataframe tbody tr th {\n",
       "        vertical-align: top;\n",
       "    }\n",
       "\n",
       "    .dataframe thead th {\n",
       "        text-align: right;\n",
       "    }\n",
       "</style>\n",
       "<table border=\"1\" class=\"dataframe\">\n",
       "  <thead>\n",
       "    <tr style=\"text-align: right;\">\n",
       "      <th></th>\n",
       "      <th>2013-01-01</th>\n",
       "      <th>2013-01-02</th>\n",
       "      <th>2013-01-03</th>\n",
       "      <th>2013-01-04</th>\n",
       "      <th>2013-01-05</th>\n",
       "      <th>2013-01-06</th>\n",
       "    </tr>\n",
       "  </thead>\n",
       "  <tbody>\n",
       "    <tr>\n",
       "      <th>A</th>\n",
       "      <td>-1.616177</td>\n",
       "      <td>-1.674014</td>\n",
       "      <td>0.062348</td>\n",
       "      <td>-0.950319</td>\n",
       "      <td>0.209210</td>\n",
       "      <td>-0.722540</td>\n",
       "    </tr>\n",
       "    <tr>\n",
       "      <th>B</th>\n",
       "      <td>1.130402</td>\n",
       "      <td>0.913678</td>\n",
       "      <td>1.077333</td>\n",
       "      <td>-1.881390</td>\n",
       "      <td>-0.485701</td>\n",
       "      <td>0.284470</td>\n",
       "    </tr>\n",
       "    <tr>\n",
       "      <th>C</th>\n",
       "      <td>-1.902371</td>\n",
       "      <td>0.287839</td>\n",
       "      <td>0.484805</td>\n",
       "      <td>0.271041</td>\n",
       "      <td>-0.217883</td>\n",
       "      <td>-1.065357</td>\n",
       "    </tr>\n",
       "    <tr>\n",
       "      <th>D</th>\n",
       "      <td>-0.853090</td>\n",
       "      <td>0.401093</td>\n",
       "      <td>-1.766945</td>\n",
       "      <td>-1.186033</td>\n",
       "      <td>-0.822942</td>\n",
       "      <td>-1.755751</td>\n",
       "    </tr>\n",
       "  </tbody>\n",
       "</table>\n",
       "</div>"
      ],
      "text/plain": [
       "   2013-01-01  2013-01-02  2013-01-03  2013-01-04  2013-01-05  2013-01-06\n",
       "A   -1.616177   -1.674014    0.062348   -0.950319    0.209210   -0.722540\n",
       "B    1.130402    0.913678    1.077333   -1.881390   -0.485701    0.284470\n",
       "C   -1.902371    0.287839    0.484805    0.271041   -0.217883   -1.065357\n",
       "D   -0.853090    0.401093   -1.766945   -1.186033   -0.822942   -1.755751"
      ]
     },
     "execution_count": 45,
     "metadata": {},
     "output_type": "execute_result"
    }
   ],
   "source": [
    "df.T"
   ]
  },
  {
   "cell_type": "code",
   "execution_count": 46,
   "metadata": {},
   "outputs": [
    {
     "data": {
      "text/html": [
       "<div>\n",
       "<style scoped>\n",
       "    .dataframe tbody tr th:only-of-type {\n",
       "        vertical-align: middle;\n",
       "    }\n",
       "\n",
       "    .dataframe tbody tr th {\n",
       "        vertical-align: top;\n",
       "    }\n",
       "\n",
       "    .dataframe thead th {\n",
       "        text-align: right;\n",
       "    }\n",
       "</style>\n",
       "<table border=\"1\" class=\"dataframe\">\n",
       "  <thead>\n",
       "    <tr style=\"text-align: right;\">\n",
       "      <th></th>\n",
       "      <th>A</th>\n",
       "      <th>B</th>\n",
       "      <th>C</th>\n",
       "      <th>D</th>\n",
       "    </tr>\n",
       "  </thead>\n",
       "  <tbody>\n",
       "    <tr>\n",
       "      <th>2013-01-01</th>\n",
       "      <td>-1.616177</td>\n",
       "      <td>1.130402</td>\n",
       "      <td>-1.902371</td>\n",
       "      <td>-0.853090</td>\n",
       "    </tr>\n",
       "    <tr>\n",
       "      <th>2013-01-02</th>\n",
       "      <td>-1.674014</td>\n",
       "      <td>0.913678</td>\n",
       "      <td>0.287839</td>\n",
       "      <td>0.401093</td>\n",
       "    </tr>\n",
       "    <tr>\n",
       "      <th>2013-01-03</th>\n",
       "      <td>0.062348</td>\n",
       "      <td>1.077333</td>\n",
       "      <td>0.484805</td>\n",
       "      <td>-1.766945</td>\n",
       "    </tr>\n",
       "  </tbody>\n",
       "</table>\n",
       "</div>"
      ],
      "text/plain": [
       "                   A         B         C         D\n",
       "2013-01-01 -1.616177  1.130402 -1.902371 -0.853090\n",
       "2013-01-02 -1.674014  0.913678  0.287839  0.401093\n",
       "2013-01-03  0.062348  1.077333  0.484805 -1.766945"
      ]
     },
     "execution_count": 46,
     "metadata": {},
     "output_type": "execute_result"
    }
   ],
   "source": [
    "df[0:3]"
   ]
  },
  {
   "cell_type": "code",
   "execution_count": 47,
   "metadata": {},
   "outputs": [
    {
     "data": {
      "text/plain": [
       "A   -0.781915\n",
       "B    0.173132\n",
       "C   -0.356987\n",
       "D   -0.997278\n",
       "dtype: float64"
      ]
     },
     "execution_count": 47,
     "metadata": {},
     "output_type": "execute_result"
    }
   ],
   "source": [
    "df.mean()"
   ]
  },
  {
   "cell_type": "code",
   "execution_count": 48,
   "metadata": {},
   "outputs": [
    {
     "data": {
      "text/plain": [
       "A   -0.836430\n",
       "B    0.599074\n",
       "C    0.026579\n",
       "D   -1.019561\n",
       "dtype: float64"
      ]
     },
     "execution_count": 48,
     "metadata": {},
     "output_type": "execute_result"
    }
   ],
   "source": [
    "df.median()"
   ]
  },
  {
   "cell_type": "code",
   "execution_count": 49,
   "metadata": {},
   "outputs": [
    {
     "data": {
      "text/html": [
       "<div>\n",
       "<style scoped>\n",
       "    .dataframe tbody tr th:only-of-type {\n",
       "        vertical-align: middle;\n",
       "    }\n",
       "\n",
       "    .dataframe tbody tr th {\n",
       "        vertical-align: top;\n",
       "    }\n",
       "\n",
       "    .dataframe thead th {\n",
       "        text-align: right;\n",
       "    }\n",
       "</style>\n",
       "<table border=\"1\" class=\"dataframe\">\n",
       "  <thead>\n",
       "    <tr style=\"text-align: right;\">\n",
       "      <th></th>\n",
       "      <th>A</th>\n",
       "      <th>B</th>\n",
       "      <th>C</th>\n",
       "      <th>D</th>\n",
       "    </tr>\n",
       "  </thead>\n",
       "  <tbody>\n",
       "    <tr>\n",
       "      <th>0</th>\n",
       "      <td>-1.674014</td>\n",
       "      <td>-1.881390</td>\n",
       "      <td>-1.902371</td>\n",
       "      <td>-1.766945</td>\n",
       "    </tr>\n",
       "    <tr>\n",
       "      <th>1</th>\n",
       "      <td>-1.616177</td>\n",
       "      <td>-0.485701</td>\n",
       "      <td>-1.065357</td>\n",
       "      <td>-1.755751</td>\n",
       "    </tr>\n",
       "    <tr>\n",
       "      <th>2</th>\n",
       "      <td>-0.950319</td>\n",
       "      <td>0.284470</td>\n",
       "      <td>-0.217883</td>\n",
       "      <td>-1.186033</td>\n",
       "    </tr>\n",
       "    <tr>\n",
       "      <th>3</th>\n",
       "      <td>-0.722540</td>\n",
       "      <td>0.913678</td>\n",
       "      <td>0.271041</td>\n",
       "      <td>-0.853090</td>\n",
       "    </tr>\n",
       "    <tr>\n",
       "      <th>4</th>\n",
       "      <td>0.062348</td>\n",
       "      <td>1.077333</td>\n",
       "      <td>0.287839</td>\n",
       "      <td>-0.822942</td>\n",
       "    </tr>\n",
       "    <tr>\n",
       "      <th>5</th>\n",
       "      <td>0.209210</td>\n",
       "      <td>1.130402</td>\n",
       "      <td>0.484805</td>\n",
       "      <td>0.401093</td>\n",
       "    </tr>\n",
       "  </tbody>\n",
       "</table>\n",
       "</div>"
      ],
      "text/plain": [
       "          A         B         C         D\n",
       "0 -1.674014 -1.881390 -1.902371 -1.766945\n",
       "1 -1.616177 -0.485701 -1.065357 -1.755751\n",
       "2 -0.950319  0.284470 -0.217883 -1.186033\n",
       "3 -0.722540  0.913678  0.271041 -0.853090\n",
       "4  0.062348  1.077333  0.287839 -0.822942\n",
       "5  0.209210  1.130402  0.484805  0.401093"
      ]
     },
     "execution_count": 49,
     "metadata": {},
     "output_type": "execute_result"
    }
   ],
   "source": [
    "df.mode()"
   ]
  }
 ],
 "metadata": {
  "kernelspec": {
   "display_name": "Python 3",
   "language": "python",
   "name": "python3"
  },
  "language_info": {
   "codemirror_mode": {
    "name": "ipython",
    "version": 3
   },
   "file_extension": ".py",
   "mimetype": "text/x-python",
   "name": "python",
   "nbconvert_exporter": "python",
   "pygments_lexer": "ipython3",
   "version": "3.12.6"
  }
 },
 "nbformat": 4,
 "nbformat_minor": 2
}
